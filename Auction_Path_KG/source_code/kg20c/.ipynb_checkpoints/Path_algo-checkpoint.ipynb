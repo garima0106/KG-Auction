{
 "cells": [
  {
   "cell_type": "code",
   "execution_count": 1,
   "id": "b1285fb0",
   "metadata": {},
   "outputs": [],
   "source": [
    "import networkx as nx\n",
    "import pandas as pd\n",
    "import numpy as np\n",
    "import pylab as p\n",
    "import matplotlib.pyplot as plt\n",
    "import os"
   ]
  },
  {
   "cell_type": "code",
   "execution_count": 2,
   "id": "acbd72e6",
   "metadata": {},
   "outputs": [],
   "source": [
    "path = os.getcwd()"
   ]
  },
  {
   "cell_type": "code",
   "execution_count": 3,
   "id": "d563f197",
   "metadata": {},
   "outputs": [
    {
     "data": {
      "text/plain": [
       "'/Users/garima/KG-Auction/Auction_Path_KG/source_code/kg20c'"
      ]
     },
     "execution_count": 3,
     "metadata": {},
     "output_type": "execute_result"
    }
   ],
   "source": [
    "path"
   ]
  },
  {
   "cell_type": "code",
   "execution_count": 23,
   "id": "e39b49fe",
   "metadata": {},
   "outputs": [],
   "source": [
    "kg = pd.read_csv('kgTriples.csv')"
   ]
  },
  {
   "cell_type": "code",
   "execution_count": 24,
   "id": "97f68dfa",
   "metadata": {},
   "outputs": [
    {
     "data": {
      "text/html": [
       "<div>\n",
       "<style scoped>\n",
       "    .dataframe tbody tr th:only-of-type {\n",
       "        vertical-align: middle;\n",
       "    }\n",
       "\n",
       "    .dataframe tbody tr th {\n",
       "        vertical-align: top;\n",
       "    }\n",
       "\n",
       "    .dataframe thead th {\n",
       "        text-align: right;\n",
       "    }\n",
       "</style>\n",
       "<table border=\"1\" class=\"dataframe\">\n",
       "  <thead>\n",
       "    <tr style=\"text-align: right;\">\n",
       "      <th></th>\n",
       "      <th>e1</th>\n",
       "      <th>r</th>\n",
       "      <th>e2</th>\n",
       "    </tr>\n",
       "  </thead>\n",
       "  <tbody>\n",
       "    <tr>\n",
       "      <th>0</th>\n",
       "      <td>3877</td>\n",
       "      <td>author_in_affiliation</td>\n",
       "      <td>1915</td>\n",
       "    </tr>\n",
       "    <tr>\n",
       "      <th>1</th>\n",
       "      <td>1603</td>\n",
       "      <td>author_in_affiliation</td>\n",
       "      <td>229</td>\n",
       "    </tr>\n",
       "    <tr>\n",
       "      <th>2</th>\n",
       "      <td>12953</td>\n",
       "      <td>author_write_paper</td>\n",
       "      <td>10004</td>\n",
       "    </tr>\n",
       "    <tr>\n",
       "      <th>3</th>\n",
       "      <td>7398</td>\n",
       "      <td>author_write_paper</td>\n",
       "      <td>5957</td>\n",
       "    </tr>\n",
       "    <tr>\n",
       "      <th>4</th>\n",
       "      <td>11891</td>\n",
       "      <td>paper_cite_paper</td>\n",
       "      <td>4979</td>\n",
       "    </tr>\n",
       "  </tbody>\n",
       "</table>\n",
       "</div>"
      ],
      "text/plain": [
       "      e1                      r     e2\n",
       "0   3877  author_in_affiliation   1915\n",
       "1   1603  author_in_affiliation    229\n",
       "2  12953     author_write_paper  10004\n",
       "3   7398     author_write_paper   5957\n",
       "4  11891       paper_cite_paper   4979"
      ]
     },
     "execution_count": 24,
     "metadata": {},
     "output_type": "execute_result"
    }
   ],
   "source": [
    "kg.head()"
   ]
  },
  {
   "cell_type": "code",
   "execution_count": 25,
   "id": "00811340",
   "metadata": {},
   "outputs": [
    {
     "data": {
      "text/plain": [
       "e1     int64\n",
       "r     object\n",
       "e2     int64\n",
       "dtype: object"
      ]
     },
     "execution_count": 25,
     "metadata": {},
     "output_type": "execute_result"
    }
   ],
   "source": [
    "kg.dtypes"
   ]
  },
  {
   "cell_type": "code",
   "execution_count": 27,
   "id": "62434ee0",
   "metadata": {},
   "outputs": [],
   "source": [
    "head = kg['e1']\n",
    "tail = kg['e2']\n",
    "relations= kg['r']"
   ]
  },
  {
   "cell_type": "code",
   "execution_count": 28,
   "id": "bece9cf4",
   "metadata": {},
   "outputs": [],
   "source": [
    "# create the Knowledge graph from triples\n",
    "G = nx.DiGraph(directed=True)\n",
    "# # extract head\n",
    "# head = [i[0] for i in kg]\n",
    "\n",
    "# #extract relation\n",
    "# relations = [i[1] for i in kg]\n",
    "\n",
    "# # extract tail\n",
    "# tail = [i[2] for i in kg]\n",
    "\n",
    "\n",
    "for i in range(len(relations)):\n",
    "         G.add_weighted_edges_from([(head[i], tail[i], i)])\n",
    "edge_labels= dict([((u,v), relations[d['weight']]) for u,v, d in G.edges(data=True)])"
   ]
  },
  {
   "cell_type": "code",
   "execution_count": 7,
   "id": "e234e34b",
   "metadata": {},
   "outputs": [
    {
     "data": {
      "text/plain": [
       "55607"
      ]
     },
     "execution_count": 7,
     "metadata": {},
     "output_type": "execute_result"
    }
   ],
   "source": [
    "len(kg)"
   ]
  },
  {
   "cell_type": "code",
   "execution_count": 30,
   "id": "567e0887",
   "metadata": {},
   "outputs": [],
   "source": [
    "p=nx.shortest_path(G, source=3877, target=1119, weight=None, method='dijkstra')"
   ]
  },
  {
   "cell_type": "code",
   "execution_count": 31,
   "id": "5fe27565",
   "metadata": {},
   "outputs": [
    {
     "data": {
      "text/plain": [
       "[3877, 6572, 7780, 1119]"
      ]
     },
     "execution_count": 31,
     "metadata": {},
     "output_type": "execute_result"
    }
   ],
   "source": [
    "p"
   ]
  },
  {
   "cell_type": "code",
   "execution_count": 32,
   "id": "586208f8",
   "metadata": {},
   "outputs": [],
   "source": [
    "p=nx.shortest_path(G, source=11016, target=14376, weight=None, method='dijkstra')"
   ]
  },
  {
   "cell_type": "code",
   "execution_count": 33,
   "id": "1ed0fcb0",
   "metadata": {},
   "outputs": [
    {
     "data": {
      "text/plain": [
       "[11016, 9726, 9409, 14376]"
      ]
     },
     "execution_count": 33,
     "metadata": {},
     "output_type": "execute_result"
    }
   ],
   "source": [
    "p"
   ]
  },
  {
   "cell_type": "code",
   "execution_count": 34,
   "id": "1ab04c78",
   "metadata": {},
   "outputs": [],
   "source": [
    "p=nx.shortest_path(G, source=6859, target=14376, weight=None, method='dijkstra')"
   ]
  },
  {
   "cell_type": "code",
   "execution_count": 35,
   "id": "d51f16a2",
   "metadata": {},
   "outputs": [
    {
     "data": {
      "text/plain": [
       "[6859, 6172, 14376]"
      ]
     },
     "execution_count": 35,
     "metadata": {},
     "output_type": "execute_result"
    }
   ],
   "source": [
    "p"
   ]
  },
  {
   "cell_type": "code",
   "execution_count": 38,
   "id": "2e98d01f",
   "metadata": {},
   "outputs": [],
   "source": [
    "p1= nx.astar_path(G, 6859, 14376, heuristic=None)"
   ]
  },
  {
   "cell_type": "code",
   "execution_count": 39,
   "id": "75896e88",
   "metadata": {},
   "outputs": [
    {
     "data": {
      "text/plain": [
       "[6859, 6172, 14376]"
      ]
     },
     "execution_count": 39,
     "metadata": {},
     "output_type": "execute_result"
    }
   ],
   "source": [
    "p1"
   ]
  },
  {
   "cell_type": "code",
   "execution_count": 40,
   "id": "34a16c22",
   "metadata": {},
   "outputs": [],
   "source": [
    "p1= nx.astar_path(G, 11016, 14376, heuristic=None)"
   ]
  },
  {
   "cell_type": "code",
   "execution_count": 41,
   "id": "2fdd88ce",
   "metadata": {},
   "outputs": [
    {
     "data": {
      "text/plain": [
       "[11016, 9726, 9409, 14376]"
      ]
     },
     "execution_count": 41,
     "metadata": {},
     "output_type": "execute_result"
    }
   ],
   "source": [
    "p1"
   ]
  },
  {
   "cell_type": "code",
   "execution_count": 42,
   "id": "253cc2b4",
   "metadata": {},
   "outputs": [],
   "source": [
    "p=nx.shortest_path(G, source=12953, target=4117, weight=None, method='dijkstra')"
   ]
  },
  {
   "cell_type": "code",
   "execution_count": 43,
   "id": "49b8a88a",
   "metadata": {},
   "outputs": [
    {
     "data": {
      "text/plain": [
       "[12953, 4459, 4117]"
      ]
     },
     "execution_count": 43,
     "metadata": {},
     "output_type": "execute_result"
    }
   ],
   "source": [
    "#shortest - different from auction \n",
    "p"
   ]
  },
  {
   "cell_type": "code",
   "execution_count": 44,
   "id": "16b960f8",
   "metadata": {},
   "outputs": [],
   "source": [
    "p=nx.shortest_path(G, source=3877, target=2476, weight=None, method='dijkstra')"
   ]
  },
  {
   "cell_type": "code",
   "execution_count": 45,
   "id": "39d56cd7",
   "metadata": {},
   "outputs": [
    {
     "data": {
      "text/plain": [
       "[3877, 6572, 7780, 2476]"
      ]
     },
     "execution_count": 45,
     "metadata": {},
     "output_type": "execute_result"
    }
   ],
   "source": [
    "p"
   ]
  },
  {
   "cell_type": "code",
   "execution_count": 46,
   "id": "cba9b555",
   "metadata": {},
   "outputs": [],
   "source": [
    "p=nx.shortest_path(G, source=13629, target=14376, weight=None, method='dijkstra')"
   ]
  },
  {
   "cell_type": "code",
   "execution_count": 47,
   "id": "ed26b7a1",
   "metadata": {},
   "outputs": [
    {
     "data": {
      "text/plain": [
       "[13629, 9726, 9409, 14376]"
      ]
     },
     "execution_count": 47,
     "metadata": {},
     "output_type": "execute_result"
    }
   ],
   "source": [
    "p"
   ]
  },
  {
   "cell_type": "code",
   "execution_count": null,
   "id": "21cab4dc",
   "metadata": {},
   "outputs": [],
   "source": []
  }
 ],
 "metadata": {
  "kernelspec": {
   "display_name": "Python 3",
   "language": "python",
   "name": "python3"
  },
  "language_info": {
   "codemirror_mode": {
    "name": "ipython",
    "version": 3
   },
   "file_extension": ".py",
   "mimetype": "text/x-python",
   "name": "python",
   "nbconvert_exporter": "python",
   "pygments_lexer": "ipython3",
   "version": "3.8.10"
  }
 },
 "nbformat": 4,
 "nbformat_minor": 5
}
